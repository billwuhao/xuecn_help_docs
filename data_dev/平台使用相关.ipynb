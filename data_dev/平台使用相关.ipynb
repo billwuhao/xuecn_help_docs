{
 "cells": [
  {
   "cell_type": "markdown",
   "metadata": {},
   "source": [
    "# XUE.cn 帮助手册之平台使用相关\n"
   ]
  },
  {
   "cell_type": "markdown",
   "metadata": {},
   "source": [
    "### 我几天都没有上线为什么还是消耗了学习资源Unit？\n"
   ]
  },
  {
   "cell_type": "markdown",
   "metadata": {},
   "source": [
    "答：XUE.cn的学习服务一旦开始，系统就会将阅读容器服务、计算资源等进行分配，直到用户的学习资源U耗尽。当然，如果您充值之后并没有开始学习，系统是不会分配资源开始计费的。\n"
   ]
  },
  {
   "cell_type": "markdown",
   "metadata": {},
   "source": [
    "### XUE.cn有试学功能吗？\n"
   ]
  },
  {
   "cell_type": "markdown",
   "metadata": {},
   "source": [
    "答：XUE.cn目前已经上线免费体验功能，可以免费的阅读书籍，但大部分消耗计算资源的交互功能需要充值后才能开通。\n"
   ]
  },
  {
   "cell_type": "markdown",
   "metadata": {},
   "source": [
    "### 我一旦充了值就会开始消耗学习资源Unit吗？\n"
   ]
  },
  {
   "cell_type": "markdown",
   "metadata": {},
   "source": [
    "答：不会。学习资源的消耗是从您开始使用学习服务起计算的。当前XUE.cn的学习服务就是书本的阅读，一旦您开始阅读，或续费后继续阅读，系统才会将计算资源分配给您。\n"
   ]
  },
  {
   "cell_type": "markdown",
   "metadata": {},
   "source": [
    "### 学习资源Unit，到底是什么？\n"
   ]
  },
  {
   "cell_type": "markdown",
   "metadata": {},
   "source": [
    "https://xue.cn/hub/app/pricing\n"
   ]
  },
  {
   "cell_type": "markdown",
   "metadata": {},
   "source": [
    "### 手机号注册的账号和github注册的账号能关联吗？\n"
   ]
  },
  {
   "cell_type": "markdown",
   "metadata": {},
   "source": [
    "答：手机号注册的账号，目前还不能和github账号关联，不过我们正在开发关联的功能。\n"
   ]
  },
  {
   "cell_type": "markdown",
   "metadata": {},
   "source": [
    "现在它们还是两个不同的账号，但没有关系，都可以单独使用。\n"
   ]
  },
  {
   "cell_type": "markdown",
   "metadata": {},
   "source": [
    "### 从权限来分，XUE.cn有几类用户，各有什么权限？\n"
   ]
  },
  {
   "cell_type": "markdown",
   "metadata": {},
   "source": [
    "目前为止，一共有三类用户：\n"
   ]
  },
  {
   "cell_type": "markdown",
   "metadata": {},
   "source": [
    "#### 1、付费模式，已登录，剩余时长不为0的用户：\n"
   ]
  },
  {
   "cell_type": "markdown",
   "metadata": {},
   "source": [
    "* 所有已有功能均可使用。\n"
   ]
  },
  {
   "cell_type": "markdown",
   "metadata": {},
   "source": [
    "\t\t\n"
   ]
  },
  {
   "cell_type": "markdown",
   "metadata": {},
   "source": [
    "#### 2、欠费模式，已登录，但剩余时长为0的用户：\n"
   ]
  },
  {
   "cell_type": "markdown",
   "metadata": {},
   "source": [
    "*    容器无法启动，不能运行或新建 code cell，但可以查看已有的代码。\n"
   ]
  },
  {
   "cell_type": "markdown",
   "metadata": {},
   "source": [
    "*    无法阅读书籍的收费阅读章节，但可以阅读免费或试读章节。\n"
   ]
  },
  {
   "cell_type": "markdown",
   "metadata": {},
   "source": [
    "*   习题练习中编程题不能运行及提交代码，但其它题型不受影响。\n"
   ]
  },
  {
   "cell_type": "markdown",
   "metadata": {},
   "source": [
    "*   挑战答题不能运行，但可以只能查看/回顾挑战历史。\n"
   ]
  },
  {
   "cell_type": "markdown",
   "metadata": {},
   "source": [
    "*   章节和习题评论只能查看评论，不能发布。\n"
   ]
  },
  {
   "cell_type": "markdown",
   "metadata": {},
   "source": [
    "*   我的笔记本、我的学力值、阅读时长记录 、我的学习动态、我的学习报告、成就系统 、我的学习主页、分享功能、我的书 架、打卡和学习心得、书库页面、查看我的评论与通知、我的时长与订单、我的账号设置、礼品卡购买和自学攻略的功能不受影响。\n"
   ]
  },
  {
   "cell_type": "markdown",
   "metadata": {},
   "source": [
    "\t\n"
   ]
  },
  {
   "cell_type": "markdown",
   "metadata": {},
   "source": [
    "#### 3、游客模式，未登录的用户：\n"
   ]
  },
  {
   "cell_type": "markdown",
   "metadata": {},
   "source": [
    "* 容器无法启动，不能运行或新建 code cell，但可以查看已有的代码。\n"
   ]
  },
  {
   "cell_type": "markdown",
   "metadata": {},
   "source": [
    "* 无法阅读书籍的收费阅读章节，但可以阅读免费或试读章节。\n"
   ]
  },
  {
   "cell_type": "markdown",
   "metadata": {},
   "source": [
    "* 习题练习中编程题不能运行及提交代码，但其它题型不受影响。\n"
   ]
  },
  {
   "cell_type": "markdown",
   "metadata": {},
   "source": [
    "* 章节和习题评论只能查看评论，不能发布。\n"
   ]
  },
  {
   "cell_type": "markdown",
   "metadata": {},
   "source": [
    "* 我的笔记本、打卡和学习心得、我的学力值、阅读时长记录 、我的学习动态、我的学习报告、成就系统 、我的学习主页、分享功能、挑战答题、我的书架、我的评论与通知、我的时长与订单、我的账号设置和礼品卡购买的功能均无法使用。\n"
   ]
  },
  {
   "cell_type": "markdown",
   "metadata": {},
   "source": [
    "* 书库页面和自学攻略的功能不受影响。\n"
   ]
  },
  {
   "cell_type": "markdown",
   "metadata": {},
   "source": [
    "### XUE.cn网页打不开或者打开很慢怎么办？\n"
   ]
  },
  {
   "cell_type": "markdown",
   "metadata": {},
   "source": [
    "#### 答：XUE.cn的阅读器是一个基于Jupyter Lab的云端学习环境，第一次的加载时间可能会持续一分钟，还请耐心等待。\n"
   ]
  },
  {
   "cell_type": "markdown",
   "metadata": {},
   "source": [
    "如果还是打不开网页，请按以下步骤操作：\n"
   ]
  },
  {
   "cell_type": "markdown",
   "metadata": {},
   "source": [
    "1. XUE.cn服务器布置在国内，可以尝试关闭代理设置；\n"
   ]
  },
  {
   "cell_type": "markdown",
   "metadata": {},
   "source": [
    "2. 刷新页面，如果刷新页面没有改善，可以尝试退出后重新登录；\n"
   ]
  },
  {
   "cell_type": "markdown",
   "metadata": {},
   "source": [
    "3. 清理浏览器缓存或更换浏览器登录，我们比较推荐Chrome浏览器；\n"
   ]
  },
  {
   "cell_type": "markdown",
   "metadata": {},
   "source": [
    "4. 如果上述方法都不能解决您的问题，请联系我们的微信客服（微信:xue_oneone)，我们会在第一时间解决您的问题。\n"
   ]
  },
  {
   "cell_type": "markdown",
   "metadata": {},
   "source": [
    "### 小孩子可以使用XUE.cn学习编程吗？\n"
   ]
  },
  {
   "cell_type": "markdown",
   "metadata": {},
   "source": [
    "#### 答：XUE.cn适合全年龄段的人，只要具备一定的阅读能力，都可以通过XUE.cn来学习编程。\n"
   ]
  },
  {
   "cell_type": "markdown",
   "metadata": {},
   "source": [
    "不过最好是家长和孩子一起学习，或者家长自己先学习，毕竟身教胜于言传。家长的学习行为一定会影响孩子，激发孩子对编程的兴趣，兴趣产生了，学习就水到渠成了。\n"
   ]
  },
  {
   "cell_type": "markdown",
   "metadata": {},
   "source": [
    "### 学习中遇到困难、问题怎么办？\n"
   ]
  },
  {
   "cell_type": "markdown",
   "metadata": {},
   "source": [
    "#### 答：如果在学习过程中遇到问题，可以：\n"
   ]
  },
  {
   "cell_type": "markdown",
   "metadata": {},
   "source": [
    "1. 先尝试自己解决，在解决问题的过程中，既加深了对知识的理解，又提升了自学能力，毕竟掌握自学能力比仅仅掌握知识更重要；\n"
   ]
  },
  {
   "cell_type": "markdown",
   "metadata": {},
   "source": [
    "2. 在网上搜索解决方案，很多问题都可以在网上找到答案；\n"
   ]
  },
  {
   "cell_type": "markdown",
   "metadata": {},
   "source": [
    "3. 如果以上两个方法都未解决问题，可以在“学习群”或章节下方留言提问，有经验的学友会为您提供帮助，解决您的问题。\n"
   ]
  },
  {
   "cell_type": "markdown",
   "metadata": {},
   "source": [
    "### XUE.cn 会增加其他编程语言的教程以及其他方面的新内容吗\n"
   ]
  },
  {
   "cell_type": "markdown",
   "metadata": {},
   "source": [
    "#### 答：XUE.cn会持续增加其他编程语言的教程以及其他方面的新内容，目前已经上架了50余本书，包括Jave、Go等语言编程。后续还会有陆续的新书上架，敬请期待。\n"
   ]
  },
  {
   "cell_type": "markdown",
   "metadata": {},
   "source": [
    "也欢迎大家推荐自己喜欢的内容，一经采用，会给予推荐者丰厚的奖励。\n"
   ]
  },
  {
   "cell_type": "markdown",
   "metadata": {},
   "source": [
    "#### 推荐时请联系工作人员：\n"
   ]
  },
  {
   "cell_type": "markdown",
   "metadata": {},
   "source": [
    "1、依依@xue.cn hello world！（微信:xue_oneone)\n"
   ]
  },
  {
   "cell_type": "markdown",
   "metadata": {},
   "source": [
    "2、刘娟娟🍀PRESS.ONE（微信: qiaoanlu）\n"
   ]
  },
  {
   "cell_type": "markdown",
   "metadata": {},
   "source": [
    "3、五星红旗@PRESSone（微信：cgq144）\n"
   ]
  },
  {
   "cell_type": "markdown",
   "metadata": {},
   "source": [
    "### XUE 服务是如何计费的？\n"
   ]
  },
  {
   "cell_type": "markdown",
   "metadata": {},
   "source": [
    "#### 答：XUE 服务目前已经支持付费订阅的「基础套餐」，含可交互式学习环境、独立容器、优享资源价格等服务。\n"
   ]
  },
  {
   "cell_type": "markdown",
   "metadata": {},
   "source": [
    "以基础套餐为例，每月 30 元兑换 30 unit (简称 u) 的学习资源。当前的XUE云服务，单价是 1 unit/天，即每使用 1 天，将会自动扣除一个U的学习资源，并以账单形式呈现给您。\n"
   ]
  },
  {
   "cell_type": "markdown",
   "metadata": {},
   "source": [
    "之后会开放深度学习等高级套餐。\n"
   ]
  },
  {
   "cell_type": "markdown",
   "metadata": {},
   "source": [
    "### 购买了学习时长，能够享受到具体哪些服务？\n"
   ]
  },
  {
   "cell_type": "markdown",
   "metadata": {},
   "source": [
    "1. **互动式学习环境：**\n"
   ]
  },
  {
   "cell_type": "markdown",
   "metadata": {},
   "source": [
    "基于 Jupyter Lab 技术深度定制的可交互阅读环境，无需单独安装运行环境，打开网页就可以边学边写，即时运行代码得出结果；\n"
   ]
  },
  {
   "cell_type": "markdown",
   "metadata": {},
   "source": [
    "2. **即时交流：**\n"
   ]
  },
  {
   "cell_type": "markdown",
   "metadata": {},
   "source": [
    " 三人行必有我师，学习中有疑惑、代码无法运行等，都可以立即在学习群中向其他人请教（包括作者）；\n"
   ]
  },
  {
   "cell_type": "markdown",
   "metadata": {},
   "source": [
    " \n"
   ]
  },
  {
   "cell_type": "markdown",
   "metadata": {},
   "source": [
    "3. **习题：**\n"
   ]
  },
  {
   "cell_type": "markdown",
   "metadata": {},
   "source": [
    "您可以通过做题来检验对所学内容的掌握程度，巩固所学知识，深化对知识的理解，在做题过程中碰到困难需要帮助，可以去学习群向大家求助，或者发起习题讨论；\n"
   ]
  },
  {
   "cell_type": "markdown",
   "metadata": {},
   "source": [
    "4. **互动讨论：**\n"
   ]
  },
  {
   "cell_type": "markdown",
   "metadata": {},
   "source": [
    "在阅读中有了新的想法或者疑惑，可以在章节下面发起讨论，与大家一起交流，在习题答题中碰到困难，也同样可以在习题下发起讨论求助或分享解题思路；\n"
   ]
  },
  {
   "cell_type": "markdown",
   "metadata": {},
   "source": [
    "5. **学习中心：**\n"
   ]
  },
  {
   "cell_type": "markdown",
   "metadata": {},
   "source": [
    "用户学习中心记录您在平台的学习成长轨迹，动态和学习报告会详尽反馈您的学习状况；\n"
   ]
  },
  {
   "cell_type": "markdown",
   "metadata": {},
   "source": [
    "6. **计划打卡与学习心得：**\n"
   ]
  },
  {
   "cell_type": "markdown",
   "metadata": {},
   "source": [
    "根据计划每日打卡并记录学习心得；\n"
   ]
  },
  {
   "cell_type": "markdown",
   "metadata": {},
   "source": [
    "XUE.cn还在不断的更新迭代，随时都可能上线更有趣的功能，更多精彩期待您的发现。\n"
   ]
  },
  {
   "cell_type": "markdown",
   "metadata": {},
   "source": [
    "### 习题做完怎么运行呢或运行后怎么没有结果呢？\n"
   ]
  },
  {
   "cell_type": "markdown",
   "metadata": {},
   "source": [
    "#### 答：习题做完点击”习题”下面的“运行”按键运行代码，如果运行没有结果，可以按照下述步骤操作：\n"
   ]
  },
  {
   "cell_type": "markdown",
   "metadata": {},
   "source": [
    "1.  先点一下习题下面的 “停止” 按键，再点 “运行” 按键；\n"
   ]
  },
  {
   "cell_type": "markdown",
   "metadata": {},
   "source": [
    "2. 检查编写的代码本身是否就无法输出运行结果（没写print()等）；\n"
   ]
  },
  {
   "cell_type": "markdown",
   "metadata": {},
   "source": [
    "3. 刷新页面后或点击页面上方的‘重启阅读器”按键后再次运行习题中的代码；\n"
   ]
  },
  {
   "cell_type": "markdown",
   "metadata": {},
   "source": [
    "4. 如果上述方法都不能解决您的问题，可以加入学习群，询问工作人员。\n"
   ]
  },
  {
   "cell_type": "markdown",
   "metadata": {},
   "source": [
    "### 时长兑换码怎么兑换？\n"
   ]
  },
  {
   "cell_type": "markdown",
   "metadata": {},
   "source": [
    "#### web端（电脑网页登录）\n"
   ]
  },
  {
   "cell_type": "markdown",
   "metadata": {},
   "source": [
    "登录xue.cn后，点击右上角的隐藏菜单栏，点击“兑换时长/礼品卡”,进入兑换页面，输入自己获得的兑换码，即可兑换成功。\n"
   ]
  },
  {
   "cell_type": "markdown",
   "metadata": {},
   "source": [
    "#### App端\n"
   ]
  },
  {
   "cell_type": "markdown",
   "metadata": {},
   "source": [
    "IOS 设备：暂时还无法兑换时长码；\n"
   ]
  },
  {
   "cell_type": "markdown",
   "metadata": {},
   "source": [
    "Android 设备：进入App， 在“我的”中点击“兑换时长”，其他操作同web端。\n"
   ]
  },
  {
   "cell_type": "markdown",
   "metadata": {},
   "source": [
    "### XUE.cn账户怎么充值？\n"
   ]
  },
  {
   "cell_type": "markdown",
   "metadata": {},
   "source": [
    "#### 1. 订购XUE服务套餐：\n"
   ]
  },
  {
   "cell_type": "markdown",
   "metadata": {},
   "source": [
    "详见：XUE.cn账户怎么购买XUE服务？\n"
   ]
  },
  {
   "cell_type": "markdown",
   "metadata": {},
   "source": [
    "https://xue.cn/hub/app/helpCenter?id=44\n"
   ]
  },
  {
   "cell_type": "markdown",
   "metadata": {},
   "source": [
    "#### 2. 购买礼品卡充值\n"
   ]
  },
  {
   "cell_type": "markdown",
   "metadata": {},
   "source": [
    "详见：怎样购买礼品卡并充值？\n"
   ]
  },
  {
   "cell_type": "markdown",
   "metadata": {},
   "source": [
    "https://xue.cn/hub/app/helpCenter?id=45\n"
   ]
  },
  {
   "cell_type": "markdown",
   "metadata": {},
   "source": [
    "#### 3. 兑换码兑换时长\n"
   ]
  },
  {
   "cell_type": "markdown",
   "metadata": {},
   "source": [
    "详见：时长兑换码怎么兑换？\n"
   ]
  },
  {
   "cell_type": "markdown",
   "metadata": {},
   "source": [
    "https://xue.cn/hub/app/helpCenter?id=46\n"
   ]
  },
  {
   "cell_type": "markdown",
   "metadata": {},
   "source": [
    "#### 4. 学力值兑换\n"
   ]
  },
  {
   "cell_type": "markdown",
   "metadata": {},
   "source": [
    "详见：学力值怎么兑换成学习时长？\n"
   ]
  },
  {
   "cell_type": "markdown",
   "metadata": {},
   "source": [
    "https://xue.cn/hub/app/helpCenter?id=42\n"
   ]
  },
  {
   "cell_type": "markdown",
   "metadata": {},
   "source": [
    "### 获得邀请时长码奖励的方式有哪些，分别怎么操作呢？\n"
   ]
  },
  {
   "cell_type": "markdown",
   "metadata": {},
   "source": [
    "#### 1. 新用户通过你分享的注册链接注册xue.cn\n"
   ]
  },
  {
   "cell_type": "markdown",
   "metadata": {},
   "source": [
    "详见：怎么通过分享注册链接注册xue.cn获得邀请奖励\n"
   ]
  },
  {
   "cell_type": "markdown",
   "metadata": {},
   "source": [
    "https://xue.cn/hub/app/helpCenter?id=47\n"
   ]
  },
  {
   "cell_type": "markdown",
   "metadata": {},
   "source": [
    "#### 2. 新用户通过你分享的笔记注册xue.cn\n"
   ]
  },
  {
   "cell_type": "markdown",
   "metadata": {},
   "source": [
    "详见：怎么通过分享读书笔记注册xue.cn获得邀请奖励\n"
   ]
  },
  {
   "cell_type": "markdown",
   "metadata": {},
   "source": [
    "https://xue.cn/hub/app/helpCenter?id=48\n"
   ]
  },
  {
   "cell_type": "markdown",
   "metadata": {},
   "source": [
    "#### 3. 新用户通过你分享的学习心得注册xue.cn\n"
   ]
  },
  {
   "cell_type": "markdown",
   "metadata": {},
   "source": [
    "详见：怎么通过学习心得注册xue.cn获得邀请奖励\n"
   ]
  },
  {
   "cell_type": "markdown",
   "metadata": {},
   "source": [
    "https://xue.cn/hub/app/helpCenter?id=49\n"
   ]
  },
  {
   "cell_type": "markdown",
   "metadata": {},
   "source": [
    "#### 4. 新用户通过你分享的成就勋章注册xue.cn\n"
   ]
  },
  {
   "cell_type": "markdown",
   "metadata": {},
   "source": [
    "详见：怎么通过分享成就勋章注册xue.cn获得邀请奖励\n"
   ]
  },
  {
   "cell_type": "markdown",
   "metadata": {},
   "source": [
    "https://xue.cn/hub/app/helpCenter?id=50\n"
   ]
  },
  {
   "cell_type": "markdown",
   "metadata": {},
   "source": [
    "#### 5. 新用户通过你分享的书籍注册xue.cn\n"
   ]
  },
  {
   "cell_type": "markdown",
   "metadata": {},
   "source": [
    "详见：怎么通过分享书籍注册xue.cn获得邀请奖励\n"
   ]
  },
  {
   "cell_type": "markdown",
   "metadata": {},
   "source": [
    "https://xue.cn/hub/app/helpCenter?id=51\n"
   ]
  },
  {
   "cell_type": "markdown",
   "metadata": {},
   "source": [
    "### XUE.cn有手机App吗？如何下载？\n"
   ]
  },
  {
   "cell_type": "markdown",
   "metadata": {},
   "source": [
    "#### 答：有。在苹果商店和Google Play Store均可以通过搜索XUE.cn进行下载，而且主页也有安卓安装包供下载安装。\n"
   ]
  },
  {
   "cell_type": "markdown",
   "metadata": {},
   "source": [
    "XUE.cn的手机APP针对手机的应用场景，为用户提供更多利用碎片时间学习编程的功能。让同学们在搭地铁、参加无聊会议、蹲马桶的时候，都可以愉快地学习。\n"
   ]
  },
  {
   "cell_type": "markdown",
   "metadata": {},
   "source": [
    "#### 如何下载XUE.cn App\n"
   ]
  },
  {
   "cell_type": "markdown",
   "metadata": {},
   "source": [
    "* ios 设备：直接在App Store中搜索 xue.cn就可找到\n"
   ]
  },
  {
   "cell_type": "markdown",
   "metadata": {},
   "source": [
    "* Android 设备：能登录谷歌商店的，直接在商店中搜索xue.cn就可找到，无法登录谷歌商店的，可以在xue.cn主页上下载xue.cn App安装包（见下图），手机浏览器上不好下载的，可以在web端下载后传到手机上。下载不方便或者无法下载的用户，可以联系工作人员，请工作人员直接传安装包给你。\n"
   ]
  },
  {
   "cell_type": "markdown",
   "metadata": {},
   "source": [
    "<img width=\"974\" height=\"882\" src=\"https://user-images.githubusercontent.com/31980259/85350941-0d583480-b535-11ea-8c86-300fc4b435c2.png\" />\n"
   ]
  },
  {
   "cell_type": "markdown",
   "metadata": {},
   "source": [
    "#### 注：下载最好用谷歌浏览器，其他浏览器偶尔会有下载不顺畅的问题。\n"
   ]
  },
  {
   "cell_type": "markdown",
   "metadata": {},
   "source": [
    "### 学力值怎么兑换成学习时长？\n"
   ]
  },
  {
   "cell_type": "markdown",
   "metadata": {},
   "source": [
    "### web端（电脑网页登录）\n"
   ]
  },
  {
   "cell_type": "markdown",
   "metadata": {},
   "source": [
    "登录xue.cn后，点击右上角的隐藏菜单栏，在“我的学力值”中，点击”兑换为时长“，就可以兑换成功。兑换结果可以在”我的学力值“页面下部看到（见下图），也可以在‘”我的时长及订单“页面下部的”时长“中查看。\n"
   ]
  },
  {
   "cell_type": "markdown",
   "metadata": {},
   "source": [
    "<img width=\"789\" height=\"922\" src=\"https://user-images.githubusercontent.com/31980259/85351878-4d201b80-b537-11ea-8e35-417c5455ea70.png\" />\n"
   ]
  },
  {
   "cell_type": "markdown",
   "metadata": {},
   "source": [
    "### App端\n"
   ]
  },
  {
   "cell_type": "markdown",
   "metadata": {},
   "source": [
    "Android 设备：进入App， 在底部“我的”中点击“学力值兑换”，其他操作同web端。\n"
   ]
  },
  {
   "cell_type": "markdown",
   "metadata": {},
   "source": [
    "ios 设备：暂时还不能兑换学力值。\n"
   ]
  },
  {
   "cell_type": "markdown",
   "metadata": {},
   "source": [
    "注：120 pt 学力值可兑换 1U 时长，每周最多只能兑 10U 时长， 每次最少兑换 3U，也就是说，学力值最少要达到360pt，才能参与兑换时长。\n"
   ]
  },
  {
   "cell_type": "markdown",
   "metadata": {},
   "source": [
    "### XUE.cn账户怎么购买XUE服务？\n"
   ]
  },
  {
   "cell_type": "markdown",
   "metadata": {},
   "source": [
    "#### web端（电脑网页登录）\n"
   ]
  },
  {
   "cell_type": "markdown",
   "metadata": {},
   "source": [
    "登录xue.cn后，点击右上角的隐藏菜单栏，在“我的时长及订单”，选择自己需要的时长，点击‘提交订单’（见下图），使用微信扫描二维码付款。\n"
   ]
  },
  {
   "cell_type": "markdown",
   "metadata": {},
   "source": [
    "<img width=\"786\" height=\"595\" src=\"https://user-images.githubusercontent.com/31980259/85364393-a303bc00-b555-11ea-82bc-a83701c6a5d3.png\" />\n"
   ]
  },
  {
   "cell_type": "markdown",
   "metadata": {},
   "source": [
    "注：付款二维码要直接扫描，不能下载下来再从相册中扫描。\n"
   ]
  },
  {
   "cell_type": "markdown",
   "metadata": {},
   "source": [
    "#### App端\n"
   ]
  },
  {
   "cell_type": "markdown",
   "metadata": {},
   "source": [
    "IOS 设备：进入App， 在“我的”中点击\"时长及订单\"，然后点击\"订阅XUE服务\"，选择自己需要的订阅时长付款就可以了；\n"
   ]
  },
  {
   "cell_type": "markdown",
   "metadata": {},
   "source": [
    "Android 设备：暂时还无法购买。\n"
   ]
  },
  {
   "cell_type": "markdown",
   "metadata": {},
   "source": [
    "### 怎样购买礼品卡并充值？\n"
   ]
  },
  {
   "cell_type": "markdown",
   "metadata": {},
   "source": [
    "#### web端（电脑网页登录）\n"
   ]
  },
  {
   "cell_type": "markdown",
   "metadata": {},
   "source": [
    "登录xue.cn后，点击右上角的隐藏菜单栏，在“学习中心”或“我的学力值”左侧下方点击“时长兑换礼品卡”，进入“套餐价格”页面，在页面下方的“时长礼品卡”上点击“购买”键（见下图），出现四张可以选择的卡片，选择自己喜欢的卡片，点击“下一步”，选择自己需要的时长，不同的时长会有不同的优惠，然后点击“下一步”，微信扫描二维码付款，拿到时长兑换码兑换即可。\n"
   ]
  },
  {
   "cell_type": "markdown",
   "metadata": {},
   "source": [
    "<img width=\"934\" height=\"975\" src=\"https://user-images.githubusercontent.com/31980259/85365042-1bb74800-b557-11ea-853a-508aa3a3e56a.png\" />\n"
   ]
  },
  {
   "cell_type": "markdown",
   "metadata": {},
   "source": [
    "注：\n"
   ]
  },
  {
   "cell_type": "markdown",
   "metadata": {},
   "source": [
    "礼品卡自用还可以送人，相对于XUE服务套餐有一定的优惠：\n"
   ]
  },
  {
   "cell_type": "markdown",
   "metadata": {},
   "source": [
    "购买3个月面值礼品卡，另送15U兑换码；\n"
   ]
  },
  {
   "cell_type": "markdown",
   "metadata": {},
   "source": [
    "购买半年面值礼品卡，另送35U兑换码；\n"
   ]
  },
  {
   "cell_type": "markdown",
   "metadata": {},
   "source": [
    "购买一年面值礼品卡，另送90U兑换码。\n"
   ]
  },
  {
   "cell_type": "markdown",
   "metadata": {},
   "source": [
    "#### App端\n"
   ]
  },
  {
   "cell_type": "markdown",
   "metadata": {},
   "source": [
    "暂时还无法购买礼品卡。\n"
   ]
  },
  {
   "cell_type": "markdown",
   "metadata": {},
   "source": [
    "### 怎么通过分享注册链接注册xue.cn获得邀请奖励？\n"
   ]
  },
  {
   "cell_type": "markdown",
   "metadata": {},
   "source": [
    "#### web端（电脑网页登录）\n"
   ]
  },
  {
   "cell_type": "markdown",
   "metadata": {},
   "source": [
    "登录xue.cn后，点击右上角的隐藏菜单栏，在“我的账号”中点击“我的邀请”，就可以看到自己的邀请链接（见下图），将它分享出去，新用户通过它注册，你和对方均可以获得2天的学习时长奖励。\n"
   ]
  },
  {
   "cell_type": "markdown",
   "metadata": {},
   "source": [
    "<img width=\"1830\" height=\"1064\" src=\"https://user-images.githubusercontent.com/31980259/85346710-d4b25e00-b528-11ea-9597-530a933329b7.png\" />\n"
   ]
  },
  {
   "cell_type": "markdown",
   "metadata": {},
   "source": [
    "#### App端\n"
   ]
  },
  {
   "cell_type": "markdown",
   "metadata": {},
   "source": [
    "进入App， 在底部“我的”中点击“我的邀请”，就可以看到自己的邀请链接，其他操作同web端。\n"
   ]
  },
  {
   "cell_type": "markdown",
   "metadata": {},
   "source": [
    "### 怎么通过分享读书笔记注册xue.cn获得邀请奖励？\n"
   ]
  },
  {
   "cell_type": "markdown",
   "metadata": {},
   "source": [
    "#### web端（电脑网页登录）\n"
   ]
  },
  {
   "cell_type": "markdown",
   "metadata": {},
   "source": [
    "登录xue.cn后，点击右上角的隐藏菜单栏，在“读书笔记”中点击任何一条笔记右上角的“分享”键，就会生成可以分享的图片（见下图），将它分享出去，新用户扫描上面的二维码注册，你和对方均可以获得2天的时长。\n"
   ]
  },
  {
   "cell_type": "markdown",
   "metadata": {},
   "source": [
    "<img width=\"750\" height=\"1507\" src=\"https://user-images.githubusercontent.com/31980259/85347160-5e166000-b52a-11ea-9618-e6cfca0a2a43.png\" />\n"
   ]
  },
  {
   "cell_type": "markdown",
   "metadata": {},
   "source": [
    "#### App端\n"
   ]
  },
  {
   "cell_type": "markdown",
   "metadata": {},
   "source": [
    "进入App， 在底部“学习”中点击“读书笔记”中的“打开笔记本”，选中任何一条笔记，点击分享键，将它分享出去，新用户扫描上面的二维码注册，你和对方均可以获得2天的时长。\n"
   ]
  },
  {
   "cell_type": "markdown",
   "metadata": {},
   "source": [
    "### 怎么通过分享学习心得注册xue.cn获得邀请奖励？\n"
   ]
  },
  {
   "cell_type": "markdown",
   "metadata": {},
   "source": [
    "#### web端（电脑网页登录）\n"
   ]
  },
  {
   "cell_type": "markdown",
   "metadata": {},
   "source": [
    "登录xue.cn后，点击右上角的隐藏菜单栏，在“打卡+学习心得”中点击“所有学习心得”，然后点击右侧的“分享”键，就会生成可以分享的图片（见下图），将它分享出去，新用户扫描上面的二维码注册，你和对方均可以获得2天的时长。\n"
   ]
  },
  {
   "cell_type": "markdown",
   "metadata": {},
   "source": [
    "<img width=\"750\" height=\"1392\" src=\"https://user-images.githubusercontent.com/31980259/85347427-1217eb00-b52b-11ea-9201-c6488bdde39c.png\" />\n"
   ]
  },
  {
   "cell_type": "markdown",
   "metadata": {},
   "source": [
    "#### App端\n"
   ]
  },
  {
   "cell_type": "markdown",
   "metadata": {},
   "source": [
    "进入App， 在底部“学习”中点击“学习心得”中的“查看全部”，选中任何一条学习心得，点击右上角的分享键，将它分享出去，新用户扫描上面的二维码注册，你和对方均可以获得2天的时长。\n"
   ]
  },
  {
   "cell_type": "markdown",
   "metadata": {},
   "source": [
    "### 怎么通过分享成就勋章注册xue.cn获得邀请奖励？\n"
   ]
  },
  {
   "cell_type": "markdown",
   "metadata": {},
   "source": [
    "#### web端（电脑网页登录）\n"
   ]
  },
  {
   "cell_type": "markdown",
   "metadata": {},
   "source": [
    "登录xue.cn后，点击右上角的隐藏菜单栏，在“学习中心”左侧点击“我的成就勋章”中“查看所有成就”，然后点击任何一个你获得的成就勋章就会生成一个比较大的图片，点击图片下方的“分享我的成就”，就生成可以分享的图片（见下图），将它分享出去，新用户扫描上面的二维码注册，你和对方均可以获得2天的时长。\n"
   ]
  },
  {
   "cell_type": "markdown",
   "metadata": {},
   "source": [
    "<img width=\"750\" height=\"1234\" src=\"https://user-images.githubusercontent.com/31980259/85347491-52776900-b52b-11ea-985b-62dcb82538f0.png\" />\n"
   ]
  },
  {
   "cell_type": "markdown",
   "metadata": {},
   "source": [
    "#### App端\n"
   ]
  },
  {
   "cell_type": "markdown",
   "metadata": {},
   "source": [
    "进入App， 在底部“我的”中点击“成就勋章”，其他操作同web端。\n"
   ]
  },
  {
   "cell_type": "markdown",
   "metadata": {},
   "source": [
    "### 怎么通过分享书籍注册xue.cn获得邀请奖励？\n"
   ]
  },
  {
   "cell_type": "markdown",
   "metadata": {},
   "source": [
    "#### web端（电脑网页登录）\n"
   ]
  },
  {
   "cell_type": "markdown",
   "metadata": {},
   "source": [
    "登录xue.cn后，点击右上角的隐藏菜单栏，在“访问XUE.cn 书库”点击想要分享的书籍的内容简介，然后点击“作者介绍”下方的“邀请好友一起免费读’键（见下图）”就会生成可以分享的图片，将它分享出去，新用户扫描上面的二维码注册，你和对方均可以获得2天的时长。\n"
   ]
  },
  {
   "cell_type": "markdown",
   "metadata": {},
   "source": [
    "<img width=\"1920\" height=\"712\" src=\"https://user-images.githubusercontent.com/31980259/85348402-14c80f80-b52e-11ea-9561-79343e7c6d3e.png\" />\n"
   ]
  },
  {
   "cell_type": "markdown",
   "metadata": {},
   "source": [
    "#### App端\n"
   ]
  },
  {
   "cell_type": "markdown",
   "metadata": {},
   "source": [
    "进入App，在底部“书库”中点击想要分享的书籍的内容简介，点击右上角的“分享”键（见下图），其他操作同web端。\n"
   ]
  },
  {
   "cell_type": "markdown",
   "metadata": {},
   "source": [
    "<img width=\"1072\" height=\"2112\" src=\"https://user-images.githubusercontent.com/31980259/85349114-2ad6cf80-b530-11ea-9d4d-397a6c787d25.png\" />\n"
   ]
  },
  {
   "cell_type": "markdown",
   "metadata": {},
   "source": [
    "### Github账号怎么样迁移到邮箱或手机账号？\n"
   ]
  },
  {
   "cell_type": "markdown",
   "metadata": {},
   "source": [
    "#### 说明：\n"
   ]
  },
  {
   "cell_type": "markdown",
   "metadata": {},
   "source": [
    "1. 迁移时间为迁移功能发布日至 9 月 1 日 ；\n"
   ]
  },
  {
   "cell_type": "markdown",
   "metadata": {},
   "source": [
    "2. 9 月 1 日后 Xue.cn 不再提供 Github 登录方式；\n"
   ]
  },
  {
   "cell_type": "markdown",
   "metadata": {},
   "source": [
    "3. 迁移功能发布日之前注册的 Github 账号在9 月 1 日之前完成迁移的都将获得60U的时长奖励；\n"
   ]
  },
  {
   "cell_type": "markdown",
   "metadata": {},
   "source": [
    "4. 迁移功能发布日至 9 月 1 日 之间注册的 Github 账号不能迁移；\n"
   ]
  },
  {
   "cell_type": "markdown",
   "metadata": {},
   "source": [
    "5. 如果被迁移的账号是新注册的，里面没有数据，会把github账号内的所有数据都迁移到新账号；\n"
   ]
  },
  {
   "cell_type": "markdown",
   "metadata": {},
   "source": [
    "6. 如果是已经注册了一定时间的账号只会迁移时长，其他数据不会迁移，所以最好把学力值兑换成时长迁移过去。\n"
   ]
  },
  {
   "cell_type": "markdown",
   "metadata": {},
   "source": [
    "#### 迁移方法：\n"
   ]
  },
  {
   "cell_type": "markdown",
   "metadata": {},
   "source": [
    "1. 打开 Xue.cn 登录页面，点击‘使用 Github 账号登录（见下图）；\n"
   ]
  },
  {
   "cell_type": "markdown",
   "metadata": {},
   "source": [
    "<img width=\"1069\" height=\"1584\" src=\"https://user-images.githubusercontent.com/52018806/87008685-b7eb7b00-c1f6-11ea-819c-5660c06f9191.png\" />\n"
   ]
  },
  {
   "cell_type": "markdown",
   "metadata": {},
   "source": [
    "2. 点击 'Github 登录快速迁移‘（见下图）；\n"
   ]
  },
  {
   "cell_type": "markdown",
   "metadata": {},
   "source": [
    "<img width=\"1067\" height=\"1443\" src=\"https://user-images.githubusercontent.com/52018806/87009060-3f38ee80-c1f7-11ea-9d6d-6ead2f47743b.png\" />\n"
   ]
  },
  {
   "cell_type": "markdown",
   "metadata": {},
   "source": [
    "3. 输入你的 Github 账号名和密码，点击 'Sign in' (见下图）;\n"
   ]
  },
  {
   "cell_type": "markdown",
   "metadata": {},
   "source": [
    "<img width=\"1063\" height=\"1534\" src=\"https://user-images.githubusercontent.com/52018806/87009438-bec6bd80-c1f7-11ea-9ed4-67cb632e5e16.png\" />\n"
   ]
  },
  {
   "cell_type": "markdown",
   "metadata": {},
   "source": [
    "4. 输入 Github 发给你的验证码（见下图），这个验证码发到了你注册 Github 时使用的邮箱里；\n"
   ]
  },
  {
   "cell_type": "markdown",
   "metadata": {},
   "source": [
    "<img width=\"1076\" height=\"918\" src=\"https://user-images.githubusercontent.com/52018806/87009733-2aa92600-c1f8-11ea-809f-4a5c480d9ce9.png\" />\n"
   ]
  },
  {
   "cell_type": "markdown",
   "metadata": {},
   "source": [
    "5. 输入你要迁移的手机或邮箱账号，发送验证码，收到验证码后输入，然后点击‘确认迁移’（见下图）；\n"
   ]
  },
  {
   "cell_type": "markdown",
   "metadata": {},
   "source": [
    "<img width=\"1074\" height=\"1432\" src=\"https://user-images.githubusercontent.com/52018806/87010432-22051f80-c1f9-11ea-88f2-a539466319be.png\" />\n"
   ]
  },
  {
   "cell_type": "markdown",
   "metadata": {},
   "source": [
    "6. 若迁移成功，会有一个‘迁移成功’的通知弹出（见下图），若不成功，请请联系工作人员微信：xue_oneone  ；\n"
   ]
  },
  {
   "cell_type": "markdown",
   "metadata": {},
   "source": [
    "<img width=\"1032\" height=\"491\" src=\"https://user-images.githubusercontent.com/52018806/87012660-254dda80-c1fc-11ea-959f-f8a4d9a437a4.png\" />\n"
   ]
  },
  {
   "cell_type": "markdown",
   "metadata": {},
   "source": [
    "7. 迁移成功后，登入自己的新账号，打开'我的时长及订单'，在'时长'栏下面就会看到迁移奖励（见下图），至此，迁移完成！\n"
   ]
  },
  {
   "cell_type": "markdown",
   "metadata": {},
   "source": [
    "<img width=\"791\" height=\"235\" src=\"https://user-images.githubusercontent.com/52018806/87013182-d5234800-c1fc-11ea-9304-73a0637c99e4.png\" />\n"
   ]
  }
 ],
 "metadata": {
  "kernelspec": {
   "display_name": "Python 3",
   "language": "python",
   "name": "python3"
  },
  "language_info": {
   "codemirror_mode": {
    "name": "ipython",
    "version": 3
   },
   "file_extension": ".py",
   "mimetype": "text/x-python",
   "name": "python",
   "nbconvert_exporter": "python",
   "pygments_lexer": "ipython3",
   "version": "3.7.4"
  }
 },
 "nbformat": 4,
 "nbformat_minor": 2
}