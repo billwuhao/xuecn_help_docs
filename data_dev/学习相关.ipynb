{
 "cells": [
  {
   "cell_type": "markdown",
   "metadata": {},
   "source": [
    "# XUE.cn 帮助手册之学习相关\n"
   ]
  },
  {
   "cell_type": "markdown",
   "metadata": {},
   "source": [
    "### 我没有任何编程基础能在XUE.cn上学会什么?\n"
   ]
  },
  {
   "cell_type": "markdown",
   "metadata": {},
   "source": [
    "答：XUE.cn专门针对业余编程学习者设计，在这里你能得到轻松快速上手的学习工具，专为编程自学提供的书籍，这里也有友好的环境氛围，再“小白”的问题都可以得到耐心的解答。没有编程基础的你，能够在这里学会编程，打开新世界的大门吧！\n"
   ]
  },
  {
   "cell_type": "markdown",
   "metadata": {},
   "source": [
    "### 编程真的可以全靠自学吗？\n"
   ]
  },
  {
   "cell_type": "markdown",
   "metadata": {},
   "source": [
    "答：自学是一种很高效的学习方式，可以自己掌握学习进度，自行安排学习时间，阅读也比看教学视频接收的信息更全面，XUE.cn的大量用户已经亲身体会到了自学的好处。所以，你也可以自学编程，就从《自学是门手艺》开始吧。\n"
   ]
  },
  {
   "cell_type": "markdown",
   "metadata": {},
   "source": [
    " \n"
   ]
  },
  {
   "cell_type": "markdown",
   "metadata": {},
   "source": [
    " 注：《自学是门手艺》第4章就有很多自学成功者的自述故事，或许对你有所帮助。\n"
   ]
  },
  {
   "cell_type": "markdown",
   "metadata": {},
   "source": [
    "### 未来会有更多学习内容吗？\n"
   ]
  },
  {
   "cell_type": "markdown",
   "metadata": {},
   "source": [
    "#### 答：会有更多。\n"
   ]
  },
  {
   "cell_type": "markdown",
   "metadata": {},
   "source": [
    "Read，Practice，Build。学习编程除了能学到新的思维模式，同学们应该更希望能够在实际生活中用到这项技能。数据分析、数据呈现、区块链DAPP，很多领域的知识都会用到编程技能，因此XUE.cn也会提供更多领域的学习内容。用户可以一边学编程，一边学编程的应用，用来解决实际问题。\n"
   ]
  },
  {
   "cell_type": "markdown",
   "metadata": {},
   "source": [
    "### 未来会有其它编程语言的学习内容吗？\n"
   ]
  },
  {
   "cell_type": "markdown",
   "metadata": {},
   "source": [
    "#### 答：未来会有更多的编程语言学习内容。Ruby、C……编程的世界非常广阔。\n"
   ]
  },
  {
   "cell_type": "markdown",
   "metadata": {},
   "source": [
    "而现阶段，XUE.cn推荐Python。Python是一款很适合业余编程学习者的语言，它有着强大的社区支持，丰富的库函数，语言本身简单直接，贴近自然语言。XUE.cn鼓励业余新手程序员从Python开始。\n"
   ]
  },
  {
   "cell_type": "markdown",
   "metadata": {},
   "source": [
    "当然，我们也上线了Go、Java等语言的编程书籍。\n"
   ]
  }
 ],
 "metadata": {
  "kernelspec": {
   "display_name": "Python 3",
   "language": "python",
   "name": "python3"
  },
  "language_info": {
   "codemirror_mode": {
    "name": "ipython",
    "version": 3
   },
   "file_extension": ".py",
   "mimetype": "text/x-python",
   "name": "python",
   "nbconvert_exporter": "python",
   "pygments_lexer": "ipython3",
   "version": "3.7.4"
  }
 },
 "nbformat": 4,
 "nbformat_minor": 2
}